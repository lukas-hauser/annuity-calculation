{
 "cells": [
  {
   "cell_type": "code",
   "execution_count": 1,
   "metadata": {},
   "outputs": [],
   "source": [
    "import numpy as np\n",
    "import pandas as pd\n",
    "import matplotlib.pyplot as plt\n",
    "%matplotlib inline"
   ]
  },
  {
   "cell_type": "code",
   "execution_count": 2,
   "metadata": {},
   "outputs": [],
   "source": [
    "principal = 100000\n",
    "dur_years = 2\n",
    "ann_int = 0.24"
   ]
  },
  {
   "cell_type": "code",
   "execution_count": 3,
   "metadata": {},
   "outputs": [],
   "source": [
    "mon_int = ann_int/12\n",
    "dur_mon = dur_years*12"
   ]
  },
  {
   "cell_type": "code",
   "execution_count": 4,
   "metadata": {},
   "outputs": [],
   "source": [
    "monthly_payment = round(principal * (mon_int/(1-(1+mon_int)**(-dur_mon))),2)"
   ]
  },
  {
   "cell_type": "code",
   "execution_count": 5,
   "metadata": {},
   "outputs": [],
   "source": [
    "months=range(1,dur_mon+1)"
   ]
  },
  {
   "cell_type": "code",
   "execution_count": 6,
   "metadata": {},
   "outputs": [],
   "source": [
    "annuity = pd.DataFrame(index=months,columns=['Start Balance', 'Total Payment', 'Interest Payment','Principal Payment','End Balance'])\n",
    "annuity.index.name = 'Month'"
   ]
  },
  {
   "cell_type": "code",
   "execution_count": 7,
   "metadata": {},
   "outputs": [],
   "source": [
    "annuity.loc[1,'Start Balance'] = principal\n",
    "annuity['Total Payment'] = monthly_payment\n",
    "annuity.loc[1,'Interest Payment'] = round(annuity.loc[1,'Start Balance']*mon_int,2)\n",
    "annuity.loc[1,'Principal Payment'] = annuity.loc[1,'Total Payment'] - annuity.loc[1,'Interest Payment']\n",
    "annuity.loc[1,'End Balance'] = annuity.loc[1,'Start Balance'] - annuity.loc[1,'Principal Payment']"
   ]
  },
  {
   "cell_type": "code",
   "execution_count": 8,
   "metadata": {},
   "outputs": [],
   "source": [
    "for i in range(2,dur_mon+1):\n",
    "    annuity.loc[i,'Start Balance'] = annuity['End Balance'][i-1]\n",
    "    annuity.loc[i,'Interest Payment'] = round(annuity['Start Balance'][i]*mon_int,2)\n",
    "    annuity.loc[i,'Principal Payment'] = annuity['Total Payment'][i] - annuity['Interest Payment'][i]\n",
    "    annuity.loc[i,'End Balance'] = annuity['Start Balance'][i] - annuity['Principal Payment'][i]"
   ]
  },
  {
   "cell_type": "code",
   "execution_count": 9,
   "metadata": {},
   "outputs": [
    {
     "data": {
      "text/html": [
       "<div>\n",
       "<style scoped>\n",
       "    .dataframe tbody tr th:only-of-type {\n",
       "        vertical-align: middle;\n",
       "    }\n",
       "\n",
       "    .dataframe tbody tr th {\n",
       "        vertical-align: top;\n",
       "    }\n",
       "\n",
       "    .dataframe thead th {\n",
       "        text-align: right;\n",
       "    }\n",
       "</style>\n",
       "<table border=\"1\" class=\"dataframe\">\n",
       "  <thead>\n",
       "    <tr style=\"text-align: right;\">\n",
       "      <th></th>\n",
       "      <th>Start Balance</th>\n",
       "      <th>Total Payment</th>\n",
       "      <th>Interest Payment</th>\n",
       "      <th>Principal Payment</th>\n",
       "      <th>End Balance</th>\n",
       "    </tr>\n",
       "    <tr>\n",
       "      <th>Month</th>\n",
       "      <th></th>\n",
       "      <th></th>\n",
       "      <th></th>\n",
       "      <th></th>\n",
       "      <th></th>\n",
       "    </tr>\n",
       "  </thead>\n",
       "  <tbody>\n",
       "    <tr>\n",
       "      <td>1</td>\n",
       "      <td>100000</td>\n",
       "      <td>5287.11</td>\n",
       "      <td>2000</td>\n",
       "      <td>3287.11</td>\n",
       "      <td>96712.9</td>\n",
       "    </tr>\n",
       "    <tr>\n",
       "      <td>2</td>\n",
       "      <td>96712.9</td>\n",
       "      <td>5287.11</td>\n",
       "      <td>1934.26</td>\n",
       "      <td>3352.85</td>\n",
       "      <td>93360</td>\n",
       "    </tr>\n",
       "    <tr>\n",
       "      <td>3</td>\n",
       "      <td>93360</td>\n",
       "      <td>5287.11</td>\n",
       "      <td>1867.2</td>\n",
       "      <td>3419.91</td>\n",
       "      <td>89940.1</td>\n",
       "    </tr>\n",
       "    <tr>\n",
       "      <td>4</td>\n",
       "      <td>89940.1</td>\n",
       "      <td>5287.11</td>\n",
       "      <td>1798.8</td>\n",
       "      <td>3488.31</td>\n",
       "      <td>86451.8</td>\n",
       "    </tr>\n",
       "    <tr>\n",
       "      <td>5</td>\n",
       "      <td>86451.8</td>\n",
       "      <td>5287.11</td>\n",
       "      <td>1729.04</td>\n",
       "      <td>3558.07</td>\n",
       "      <td>82893.8</td>\n",
       "    </tr>\n",
       "  </tbody>\n",
       "</table>\n",
       "</div>"
      ],
      "text/plain": [
       "      Start Balance  Total Payment Interest Payment Principal Payment  \\\n",
       "Month                                                                   \n",
       "1            100000        5287.11             2000           3287.11   \n",
       "2           96712.9        5287.11          1934.26           3352.85   \n",
       "3             93360        5287.11           1867.2           3419.91   \n",
       "4           89940.1        5287.11           1798.8           3488.31   \n",
       "5           86451.8        5287.11          1729.04           3558.07   \n",
       "\n",
       "      End Balance  \n",
       "Month              \n",
       "1         96712.9  \n",
       "2           93360  \n",
       "3         89940.1  \n",
       "4         86451.8  \n",
       "5         82893.8  "
      ]
     },
     "execution_count": 9,
     "metadata": {},
     "output_type": "execute_result"
    }
   ],
   "source": [
    "annuity.head()"
   ]
  },
  {
   "cell_type": "code",
   "execution_count": 10,
   "metadata": {},
   "outputs": [
    {
     "data": {
      "text/plain": [
       "<matplotlib.axes._subplots.AxesSubplot at 0x7fd3635d5c10>"
      ]
     },
     "execution_count": 10,
     "metadata": {},
     "output_type": "execute_result"
    },
    {
     "data": {
      "image/png": "[encoded data removed]",
      "text/plain": [
       "<Figure size 1152x576 with 1 Axes>"
      ]
     },
     "metadata": {
      "needs_background": "light"
     },
     "output_type": "display_data"
    }
   ],
   "source": [
    "annuity[['Principal Payment','Interest Payment']].plot(kind='bar',figsize=(16,8))"
   ]
  },
  {
   "cell_type": "code",
   "execution_count": 11,
   "metadata": {},
   "outputs": [
    {
     "data": {
      "text/plain": [
       "<matplotlib.axes._subplots.AxesSubplot at 0x7fd3637b9cd0>"
      ]
     },
     "execution_count": 11,
     "metadata": {},
     "output_type": "execute_result"
    },
    {
     "data": {
      "image/png": "[encoded data removed]",
      "text/plain": [
       "<Figure size 1152x576 with 1 Axes>"
      ]
     },
     "metadata": {
      "needs_background": "light"
     },
     "output_type": "display_data"
    }
   ],
   "source": [
    "annuity[['End Balance']].plot(kind='bar',figsize=(16,8))"
   ]
  }
 ],
 "metadata": {
  "kernelspec": {
   "display_name": "Python 3",
   "language": "python",
   "name": "python3"
  },
  "language_info": {
   "codemirror_mode": {
    "name": "ipython",
    "version": 3
   },
   "file_extension": ".py",
   "mimetype": "text/x-python",
   "name": "python",
   "nbconvert_exporter": "python",
   "pygments_lexer": "ipython3",
   "version": "3.7.4"
  }
 },
 "nbformat": 4,
 "nbformat_minor": 4
}
